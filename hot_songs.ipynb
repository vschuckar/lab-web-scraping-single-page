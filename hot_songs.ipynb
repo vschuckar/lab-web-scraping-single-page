{
 "cells": [
  {
   "cell_type": "code",
   "execution_count": 10,
   "id": "8ca9ee2c",
   "metadata": {},
   "outputs": [],
   "source": [
    "import requests \n",
    "from bs4 import BeautifulSoup \n",
    "import pandas as pd\n",
    "import numpy as np\n",
    "import re"
   ]
  },
  {
   "cell_type": "code",
   "execution_count": 11,
   "id": "0fcee361",
   "metadata": {},
   "outputs": [
    {
     "data": {
      "text/plain": [
       "200"
      ]
     },
     "execution_count": 11,
     "metadata": {},
     "output_type": "execute_result"
    }
   ],
   "source": [
    "url = \"https://www.billboard.com/charts/hot-100/\"\n",
    "\n",
    "response = requests.get(url)\n",
    "response.status_code "
   ]
  },
  {
   "cell_type": "code",
   "execution_count": 12,
   "id": "e129235c",
   "metadata": {},
   "outputs": [],
   "source": [
    "soup = BeautifulSoup(response.content, \"html.parser\")"
   ]
  },
  {
   "cell_type": "code",
   "execution_count": 41,
   "id": "3f16faac",
   "metadata": {},
   "outputs": [
    {
     "name": "stdout",
     "output_type": "stream",
     "text": [
      "[\"Rockin' Around The Christmas Tree\", 'All I Want For Christmas Is You', 'Jingle Bell Rock', 'Last Christmas', 'A Holly Jolly Christmas', \"It's The Most Wonderful Time Of The Year\", 'Let It Snow, Let It Snow, Let It Snow!', 'Feliz Navidad', 'Lovin On Me', 'Sleigh Ride', 'Santa Tell Me', 'The Christmas Song (Merry Christmas To You)', 'Underneath The Tree', 'White Christmas', 'Christmas (Baby Please Come Home)', 'Jingle Bells', 'Deck The Halls', 'Blue Christmas', 'Cruel Summer', 'Santa Baby', 'Here Comes Santa Claus (Right Down Santa Claus Lane)', 'Run Rudolph Run', \"It's Beginning To Look A Lot Like Christmas\", 'Greedy', 'Little Saint Nick', 'Wonderful Christmastime', \"It's Beginning To Look A Lot Like Christmas\", 'Please Come Home For Christmas', 'Paint The Town Red', \"Santa Claus Is Comin' To Town\", 'I Remember Everything', 'Water', \"You're A Mean One, Mr. Grinch\", 'This Christmas', 'Agora Hills', 'Last Night', 'Mistletoe', 'Happy Holiday / The Holiday Season', 'Christmastime Is Here', \"Like It's Christmas\", 'Have Yourself A Merry Little Christmas', 'Happy Xmas (War Is Over)', 'I Saw Mommy Kissing Santa Claus', \"Thinkin' Bout Me\", 'Rudolph The Red-Nosed Reindeer', 'Merry Christmas', 'Fast Car', 'Lose Control', \"Is It Over Now? (Taylor's Version) [From The Vault]\", \"(There's No Place Like) Home For The Holidays (1954)\", 'Lil Boo Thang', 'Rich Baby Daddy', 'FTCU', 'Stick Season', 'Everybody', 'White Horse', 'First Person Shooter', 'Used To Be Young', 'Houdini', 'Good Good', 'World On Fire', 'La Diabla', 'Pretty Little Poison', 'On My Mama', 'My Love Mine All Mine', 'Exes', 'Surround Sound', 'Monaco', 'Strangers', 'You Broke My Heart', 'Get Him Back!', 'IDGAF', 'Harley Quinn', 'Wild Ones', 'Bellakeo', 'Truck Bed', 'Save Me The Trouble', 'Jingle Bells', 'La Victima', 'Where The Wild Things Are', 'Qlona', \"You're Losing Me (From The Vault)\", '500lbs', 'The Painter', 'Never Lose Me', 'Burn It Down', 'Winter Wonderland', 'Segun Quien', 'Needle', 'DJ Play A Christmas Song', 'Mind On You', 'Lace It', 'Hey Driver', 'Feather', \"Can't Catch Me Now\", 'El Amor de Su Vida', 'Standing Next To You', 'Man Made A Bar', 'Que Onda', 'Great Gatsby']\n"
     ]
    }
   ],
   "source": [
    "titles = []\n",
    "\n",
    "for i in range(100):\n",
    "    title_element = soup.find_all('div', {'class': 'o-chart-results-list-row-container'})[i].find('h3')\n",
    "    if title_element:\n",
    "        title = title_element.get_text().strip()\n",
    "        titles.append(title)\n",
    "\n",
    "print(titles)"
   ]
  },
  {
   "cell_type": "code",
   "execution_count": 42,
   "id": "383be4c6",
   "metadata": {},
   "outputs": [
    {
     "data": {
      "text/plain": [
       "100"
      ]
     },
     "execution_count": 42,
     "metadata": {},
     "output_type": "execute_result"
    }
   ],
   "source": [
    "len(titles)"
   ]
  },
  {
   "cell_type": "code",
   "execution_count": 38,
   "id": "a625c327",
   "metadata": {},
   "outputs": [
    {
     "name": "stdout",
     "output_type": "stream",
     "text": [
      "['Brenda Lee', 'Mariah Carey', 'Bobby Helms', 'Wham!', 'Burl Ives', 'Andy Williams', 'Dean Martin', 'Jose Feliciano', 'Jack Harlow', 'The Ronettes', 'Ariana Grande', 'Nat \"King\" Cole', 'Kelly Clarkson', 'Bing Crosby With Ken Darby Singers & John Scott Trotter & His Orchestra', 'Darlene Love', 'Frank Sinatra With The Orchestra & Chorus Of Gordon Jenkins', 'Nat King Cole', 'Elvis Presley', 'Taylor Swift', 'Eartha Kitt With Henri Rene And His Orchestra', 'Gene Autry', 'Chuck Berry', 'Michael Buble', 'Tate McRae', 'The Beach Boys', 'Paul McCartney', 'Perry Como And The Fontane Sisters With Mitchell Ayres And His Orchestra', 'Eagles', 'Doja Cat', 'Jackson 5', 'Zach Bryan Featuring Kacey Musgraves', 'Tyla', 'Thurl Ravenscroft', 'Donny Hathaway', 'Doja Cat', 'Morgan Wallen', 'Justin Bieber', 'Andy Williams', 'Vince Guaraldi Trio', 'Jonas Brothers', 'Michael Buble', 'John & Yoko/The Plastic Ono Band With The Harlem Community Choir', 'Jackson 5', 'Morgan Wallen', 'Gene Autry & The Pinafores', 'Ed Sheeran & Elton John', 'Luke Combs', 'Teddy Swims', 'Taylor Swift', 'Perry Como With Mitchell Ayers And His Orchestra', 'Paul Russell', 'Drake Featuring Sexyy Red & SZA', 'Nicki Minaj', 'Noah Kahan', 'Nicki Minaj Featuring Lil Uzi Vert', 'Chris Stapleton', 'Drake Featuring J. Cole', 'Miley Cyrus', 'Dua Lipa', 'Usher, Summer Walker & 21 Savage', 'Nate Smith', 'Xavi', 'Warren Zeiders', 'Victoria Monet', 'Mitski', 'Tate McRae', 'JID Featuring 21 Savage & Baby Tate', 'Bad Bunny', 'Kenya Grace', 'Drake', 'Olivia Rodrigo', 'Drake Featuring Yeat', 'Fuerza Regida & Marshmello', 'Jessie Murph & Jelly Roll', 'Peso Pluma & Anitta', 'HARDY', 'Dan + Shay', 'Meghan Trainor', 'Xavi', 'Luke Combs', 'Karol G & Peso Pluma', 'Taylor Swift', 'Lil Tecca', 'Cody Johnson', 'Flo Milli', 'Parker McCollum', 'Chloe', 'Maluma & Carin Leon', 'Nicki Minaj Featuring Drake', 'Cher', 'George Birge', 'Juice WRLD, Eminem & benny blanco', 'Zach Bryan Featuring The War And Treaty', 'Sabrina Carpenter', 'Olivia Rodrigo', 'Grupo Frontera & Grupo Firme', 'Jung Kook', 'Morgan Wallen Featuring Eric Church', 'Calle 24 x Chino Pacas x Fuerza Regida', 'Rod Wave']\n"
     ]
    }
   ],
   "source": [
    "artists = []\n",
    "\n",
    "for i in range(0,200,2):\n",
    "    \n",
    "    artist_element = soup.find_all('li', {'class': 'lrv-u-width-100p'})[i].find('span', {'class': 'c-label'})\n",
    "    \n",
    "    if artist_element:\n",
    "        artist = artist_element.get_text().strip()\n",
    "        artists.append(artist)\n",
    "\n",
    "print(artists)"
   ]
  },
  {
   "cell_type": "code",
   "execution_count": 43,
   "id": "0e6f9085",
   "metadata": {},
   "outputs": [
    {
     "data": {
      "text/plain": [
       "100"
      ]
     },
     "execution_count": 43,
     "metadata": {},
     "output_type": "execute_result"
    }
   ],
   "source": [
    "len(artists)"
   ]
  },
  {
   "cell_type": "code",
   "execution_count": 44,
   "id": "9a3fd6df",
   "metadata": {},
   "outputs": [],
   "source": [
    "hot_songs = pd.DataFrame({\"Title\": titles, \"Artist\": artists})"
   ]
  },
  {
   "cell_type": "code",
   "execution_count": 45,
   "id": "ad17b350",
   "metadata": {},
   "outputs": [
    {
     "data": {
      "text/html": [
       "<div>\n",
       "<style scoped>\n",
       "    .dataframe tbody tr th:only-of-type {\n",
       "        vertical-align: middle;\n",
       "    }\n",
       "\n",
       "    .dataframe tbody tr th {\n",
       "        vertical-align: top;\n",
       "    }\n",
       "\n",
       "    .dataframe thead th {\n",
       "        text-align: right;\n",
       "    }\n",
       "</style>\n",
       "<table border=\"1\" class=\"dataframe\">\n",
       "  <thead>\n",
       "    <tr style=\"text-align: right;\">\n",
       "      <th></th>\n",
       "      <th>Title</th>\n",
       "      <th>Artist</th>\n",
       "    </tr>\n",
       "  </thead>\n",
       "  <tbody>\n",
       "    <tr>\n",
       "      <th>0</th>\n",
       "      <td>Rockin' Around The Christmas Tree</td>\n",
       "      <td>Brenda Lee</td>\n",
       "    </tr>\n",
       "    <tr>\n",
       "      <th>1</th>\n",
       "      <td>All I Want For Christmas Is You</td>\n",
       "      <td>Mariah Carey</td>\n",
       "    </tr>\n",
       "    <tr>\n",
       "      <th>2</th>\n",
       "      <td>Jingle Bell Rock</td>\n",
       "      <td>Bobby Helms</td>\n",
       "    </tr>\n",
       "    <tr>\n",
       "      <th>3</th>\n",
       "      <td>Last Christmas</td>\n",
       "      <td>Wham!</td>\n",
       "    </tr>\n",
       "    <tr>\n",
       "      <th>4</th>\n",
       "      <td>A Holly Jolly Christmas</td>\n",
       "      <td>Burl Ives</td>\n",
       "    </tr>\n",
       "    <tr>\n",
       "      <th>...</th>\n",
       "      <td>...</td>\n",
       "      <td>...</td>\n",
       "    </tr>\n",
       "    <tr>\n",
       "      <th>95</th>\n",
       "      <td>El Amor de Su Vida</td>\n",
       "      <td>Grupo Frontera &amp; Grupo Firme</td>\n",
       "    </tr>\n",
       "    <tr>\n",
       "      <th>96</th>\n",
       "      <td>Standing Next To You</td>\n",
       "      <td>Jung Kook</td>\n",
       "    </tr>\n",
       "    <tr>\n",
       "      <th>97</th>\n",
       "      <td>Man Made A Bar</td>\n",
       "      <td>Morgan Wallen Featuring Eric Church</td>\n",
       "    </tr>\n",
       "    <tr>\n",
       "      <th>98</th>\n",
       "      <td>Que Onda</td>\n",
       "      <td>Calle 24 x Chino Pacas x Fuerza Regida</td>\n",
       "    </tr>\n",
       "    <tr>\n",
       "      <th>99</th>\n",
       "      <td>Great Gatsby</td>\n",
       "      <td>Rod Wave</td>\n",
       "    </tr>\n",
       "  </tbody>\n",
       "</table>\n",
       "<p>100 rows × 2 columns</p>\n",
       "</div>"
      ],
      "text/plain": [
       "                                Title                                  Artist\n",
       "0   Rockin' Around The Christmas Tree                              Brenda Lee\n",
       "1     All I Want For Christmas Is You                            Mariah Carey\n",
       "2                    Jingle Bell Rock                             Bobby Helms\n",
       "3                      Last Christmas                                   Wham!\n",
       "4             A Holly Jolly Christmas                               Burl Ives\n",
       "..                                ...                                     ...\n",
       "95                 El Amor de Su Vida            Grupo Frontera & Grupo Firme\n",
       "96               Standing Next To You                               Jung Kook\n",
       "97                     Man Made A Bar     Morgan Wallen Featuring Eric Church\n",
       "98                           Que Onda  Calle 24 x Chino Pacas x Fuerza Regida\n",
       "99                       Great Gatsby                                Rod Wave\n",
       "\n",
       "[100 rows x 2 columns]"
      ]
     },
     "execution_count": 45,
     "metadata": {},
     "output_type": "execute_result"
    }
   ],
   "source": [
    "hot_songs"
   ]
  },
  {
   "cell_type": "code",
   "execution_count": null,
   "id": "c5285dda",
   "metadata": {},
   "outputs": [],
   "source": [
    "#just in case if needed: hot_songs.index = range(1, len(hot_songs) + 1)\n",
    "#print(hot_songs)"
   ]
  },
  {
   "cell_type": "code",
   "execution_count": 46,
   "id": "b2cf90b2",
   "metadata": {},
   "outputs": [],
   "source": [
    "hot_songs.to_csv('hot_songs.csv')"
   ]
  },
  {
   "cell_type": "code",
   "execution_count": null,
   "id": "3435f34b",
   "metadata": {},
   "outputs": [],
   "source": []
  }
 ],
 "metadata": {
  "kernelspec": {
   "display_name": "Python 3 (ipykernel)",
   "language": "python",
   "name": "python3"
  },
  "language_info": {
   "codemirror_mode": {
    "name": "ipython",
    "version": 3
   },
   "file_extension": ".py",
   "mimetype": "text/x-python",
   "name": "python",
   "nbconvert_exporter": "python",
   "pygments_lexer": "ipython3",
   "version": "3.11.5"
  }
 },
 "nbformat": 4,
 "nbformat_minor": 5
}
